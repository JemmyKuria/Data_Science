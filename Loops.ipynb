{
 "cells": [
  {
   "cell_type": "markdown",
   "id": "5155774f",
   "metadata": {},
   "source": [
    "For loops are used to go through elements of a list"
   ]
  },
  {
   "cell_type": "code",
   "execution_count": 23,
   "id": "4fa3dfe8",
   "metadata": {},
   "outputs": [
    {
     "name": "stdout",
     "output_type": "stream",
     "text": [
      "Pancakes\n",
      "sausages\n",
      "bacon\n",
      "hot coffee\n",
      "Rounds done. Hope u've enjoyed\n"
     ]
    }
   ],
   "source": [
    "what_i_want=[\"Pancakes\", \"sausages\", \"bacon\", \"hot coffee\"]\n",
    "round=0\n",
    "for display in what_i_want:\n",
    "    round +=1\n",
    "    print(\"Round \", round)\n",
    "    print(display)\n",
    "    \n",
    "print(\"Rounds done. Hope u've enjoyed\")"
   ]
  },
  {
   "cell_type": "code",
   "execution_count": null,
   "id": "f5158ced",
   "metadata": {},
   "outputs": [],
   "source": [
    "word=\"Python\"\n",
    "for letter in word:\n",
    "    print(letter)"
   ]
  },
  {
   "cell_type": "code",
   "execution_count": null,
   "id": "f870da31",
   "metadata": {},
   "outputs": [],
   "source": [
    "num=0\n",
    "while num< 5:\n",
    "    print(num)\n",
    "    num +=1\n"
   ]
  },
  {
   "cell_type": "code",
   "execution_count": 4,
   "id": "406a853f",
   "metadata": {},
   "outputs": [],
   "source": [
    "countries = ['Croatia', 'USA', 'Argentina', 'France', 'Brazil', 'Japan', 'Vietnam']\n",
    "cities = ['Zagreb', 'District of Columbia', 'Buenos Aires', 'Paris', 'Rio de Janeiro', 'Tokyo', 'Hanoi']"
   ]
  },
  {
   "cell_type": "code",
   "execution_count": 5,
   "id": "3f1bf15e",
   "metadata": {},
   "outputs": [
    {
     "name": "stdout",
     "output_type": "stream",
     "text": [
      "Zagreb, Croatia\n",
      "District of Columbia, USA\n",
      "Buenos Aires, Argentina\n",
      "Paris, France\n",
      "Rio de Janeiro, Brazil\n",
      "Tokyo, Japan\n",
      "Hanoi, Vietnam\n"
     ]
    }
   ],
   "source": [
    "for index in [0,1,2,3,4,5,6]:\n",
    "    print(cities[index]+\",\", countries[index])"
   ]
  },
  {
   "cell_type": "code",
   "execution_count": 6,
   "id": "8f2a00fb",
   "metadata": {},
   "outputs": [
    {
     "name": "stdout",
     "output_type": "stream",
     "text": [
      "Zagreb, Croatia\n",
      "District of Columbia, USA\n",
      "Buenos Aires, Argentina\n",
      "Paris, France\n",
      "Rio de Janeiro, Brazil\n",
      "Tokyo, Japan\n",
      "Hanoi, Vietnam\n"
     ]
    }
   ],
   "source": [
    "#using range to get till the end of a list\n",
    "for index in list(range(0, len(countries))):\n",
    "    print(cities[index]+\",\", countries[index])"
   ]
  },
  {
   "cell_type": "code",
   "execution_count": 7,
   "id": "ef706e9f",
   "metadata": {},
   "outputs": [
    {
     "name": "stdout",
     "output_type": "stream",
     "text": [
      "Zagreb, Croatia\n",
      "District of Columbia, USA\n",
      "Buenos Aires, Argentina\n",
      "Paris, France\n",
      "Rio de Janeiro, Brazil\n",
      "Tokyo, Japan\n",
      "Hanoi, Vietnam\n",
      "Mexico city, Mexico\n"
     ]
    }
   ],
   "source": [
    "#lets add sth on the list and display using the loop\n",
    "countries.append(\"Mexico\")\n",
    "cities.append(\"Mexico city\")\n",
    "for index in list(range(0, len(countries))):\n",
    "    print(cities[index]+ \",\",countries[index])"
   ]
  },
  {
   "cell_type": "code",
   "execution_count": 11,
   "id": "b0d620f6",
   "metadata": {},
   "outputs": [
    {
     "name": "stdout",
     "output_type": "stream",
     "text": [
      "Name : Boy\n",
      "Age : 23\n",
      "class : DS\n"
     ]
    }
   ],
   "source": [
    "#Using loop in dictionaries\n",
    "student={\"Name\":\"Boy\", \"Age\":23,\"class\":\"DS\"}\n",
    "for key, value in student.items():\n",
    "    print(key, \":\", value)\n",
    "   "
   ]
  },
  {
   "cell_type": "code",
   "execution_count": 12,
   "id": "e51b1fe4",
   "metadata": {},
   "outputs": [
    {
     "name": "stdout",
     "output_type": "stream",
     "text": [
      "I love Mint Chocolate Chip ice cream!!\n",
      "I love Coffee ice cream!!\n",
      "I love Cookie Dough ice cream!!\n",
      "I love Fudge Mint Brownie ice cream!!\n",
      "I love Vanilla Bean ice cream!!\n"
     ]
    }
   ],
   "source": [
    "ice_cream_flavors = ['Mint Chocolate Chip', 'Coffee', 'Cookie Dough', 'Fudge Mint Brownie', 'Vanilla Bean']\n",
    "for ice_cream_flavor in ice_cream_flavors:\n",
    "    print('I love ' + ice_cream_flavor + ' ice cream!!')"
   ]
  },
  {
   "cell_type": "markdown",
   "id": "8b6c2c12",
   "metadata": {},
   "source": [
    "WHILE LOOPS. Runs a defined condition until it is not true"
   ]
  },
  {
   "cell_type": "code",
   "execution_count": 13,
   "id": "9e1b9897",
   "metadata": {},
   "outputs": [
    {
     "name": "stdout",
     "output_type": "stream",
     "text": [
      "5\n",
      "4\n",
      "3\n",
      "2\n",
      "1\n",
      "Surprise.\n"
     ]
    }
   ],
   "source": [
    "countdown=5\n",
    "while countdown>0:\n",
    "    print(countdown)\n",
    "    countdown -=1\n",
    "print(\"Surprise.\")"
   ]
  },
  {
   "cell_type": "code",
   "execution_count": 14,
   "id": "d2e7740d",
   "metadata": {},
   "outputs": [
    {
     "name": "stdout",
     "output_type": "stream",
     "text": [
      "before ['aNNE', 'JaNe', 'willIAM', 'WanDA', 'WeSt', 'HELEN', 'tHoMaS', 'HENrY', 'John', 'Marshall', 'May']\n",
      "after ['Anne', 'Jane', 'Helen', 'Thomas']\n",
      "11\n"
     ]
    }
   ],
   "source": [
    "names = ['aNNE', 'JaNe', 'willIAM', 'WanDA', 'WeSt', 'HELEN', 'tHoMaS', 'HENrY', 'John', 'Marshall', 'May']\n",
    "formatted_names = []\n",
    "check_count = 0\n",
    "\n",
    "for name in names:\n",
    "    if len(formatted_names) < 4:\n",
    "        check_count += 1\n",
    "        if not (name.startswith('w') or name.startswith('W')):\n",
    "            check_count += 1\n",
    "            formatted_names.append(name.title())\n",
    "\n",
    "\n",
    "print('before', names)\n",
    "print('after', formatted_names)\n",
    "print(check_count)"
   ]
  },
  {
   "cell_type": "code",
   "execution_count": 15,
   "id": "24af86cb",
   "metadata": {},
   "outputs": [
    {
     "name": "stdout",
     "output_type": "stream",
     "text": [
      "Another slice eaten!\n",
      "Now eaten 1 slices!\n",
      "Another slice eaten!\n",
      "Now eaten 2 slices!\n",
      "Another slice eaten!\n",
      "Now eaten 3 slices!\n",
      "Another slice eaten!\n",
      "Now eaten 4 slices!\n",
      "Another slice eaten!\n",
      "Now eaten 5 slices!\n",
      "Another slice eaten!\n",
      "Now eaten 6 slices!\n"
     ]
    }
   ],
   "source": [
    "slices_of_pie = 6\n",
    "slices_eaten = 0\n",
    "while slices_of_pie > slices_eaten:\n",
    "  print('Another slice eaten!')\n",
    "  slices_eaten += 1\n",
    "  print('Now eaten {} slices!'.format(slices_eaten))"
   ]
  },
  {
   "cell_type": "markdown",
   "id": "c6b19dc3",
   "metadata": {},
   "source": [
    "bb# write your while loop here\n",
    "\n",
    "#use a while loop to make 5 pancakes for breakfast\n",
    "#each pancake takes 27 seconds to cook on each side\n",
    "#it takes an average of 5 seconds to flip a pancake, add or remove a pancake from the pan.\n",
    "#you must decrease the time_for_breakfast each time you\n",
    "#add a pancake to the skillet (frying pan) or flip a pancake (i.e. 2 times per pancake)\n",
    "#there is only room for one pancake at a time\n",
    "\n",
    "#print out how much time is remaining"
   ]
  },
  {
   "cell_type": "code",
   "execution_count": 16,
   "id": "a8f23cb9",
   "metadata": {},
   "outputs": [
    {
     "name": "stdout",
     "output_type": "stream",
     "text": [
      "Cooked pancakes  1\n",
      "Time_left 1399\n",
      "Cooked pancakes  2\n",
      "Time_left 1330\n",
      "Cooked pancakes  3\n",
      "Time_left 1261\n",
      "Cooked pancakes  4\n",
      "Time_left 1192\n",
      "Cooked pancakes  5\n",
      "Time_left 1123\n",
      "Remaining time:  1123\n"
     ]
    }
   ],
   "source": [
    "time_for_breakfast = 1468 # in seconds\n",
    "number_of_cooked_pancakes = 0\n",
    "add_pan=5\n",
    "cook_lower=27\n",
    "flip=5\n",
    "cook_upper=27\n",
    "remove_pan=5\n",
    "time_on_pan=add_pan+cook_lower+flip+cook_upper+remove_pan\n",
    "\n",
    "while number_of_cooked_pancakes < 5:\n",
    "  number_of_cooked_pancakes +=1\n",
    "  print(\"Cooked pancakes \", number_of_cooked_pancakes)\n",
    "  time_for_breakfast -=time_on_pan\n",
    "  print(\"Time_left\", time_for_breakfast)\n",
    "\n",
    "print(\"Remaining time: \", time_for_breakfast)"
   ]
  },
  {
   "cell_type": "code",
   "execution_count": 17,
   "id": "817d3e3e",
   "metadata": {},
   "outputs": [
    {
     "name": "stdout",
     "output_type": "stream",
     "text": [
      "[1, 3, 5, 7, 9, 11, 13, 15, 17, 19, 21, 23, 25, 27, 29]\n",
      "[0, 2, 4, 6, 8, 10, 12, 14, 16, 18, 20, 22, 24, 26, 28]\n"
     ]
    }
   ],
   "source": [
    "# use a for or while loop to feed the hungry patrons who have an even number\n",
    "# add the patrons with an even number to the fed_patrons list\n",
    "# then remove the even numbered patrons from the line_of_hungry_patrons\n",
    "# each list should contain 15 elements\n",
    "\n",
    "line_of_hungry_patrons = list(range(0,30))\n",
    "fed_patrons = []\n",
    "for index in line_of_hungry_patrons:\n",
    "  if index % 2 == 0:\n",
    "    fed_patrons.append(index)\n",
    "    line_of_hungry_patrons.remove(index)\n",
    "    \n",
    "print(line_of_hungry_patrons)\n",
    "print(fed_patrons)"
   ]
  },
  {
   "cell_type": "code",
   "execution_count": 18,
   "id": "d3bac0f3",
   "metadata": {},
   "outputs": [],
   "source": [
    "people = [\n",
    "    {'name': \"Daniel\", 'age': 29, 'job': \"Engineer\", 'pet': \"Cat\", 'pet_name': \"Gato\"},\n",
    "    {'name': \"Katie\", 'age': 30, 'job': \"Teacher\", 'pet': \"Dog\", 'pet_name': \"Frank\"},\n",
    "    {'name': \"Owen\", 'age': 26, 'job': \"Sales person\", 'pet': \"Cat\", 'pet_name': \"Cosmo\"},\n",
    "    {'name': \"Josh\", 'age': 22, 'job': \"Student\", 'pet': \"Cat\", 'pet_name': \"Chat\"},\n",
    "    {'name': \"Estelle\", 'age': 35, 'job': \"French Diplomat\", 'pet': \"Dog\", 'pet_name': \"Gabby\"},\n",
    "    {'name': \"Gustav\", 'age': 24, 'job': \"Brewer\", 'pet': \"Dog\", 'pet_name': \"Helen\"}\n",
    "]"
   ]
  },
  {
   "cell_type": "code",
   "execution_count": 19,
   "id": "bf867d64",
   "metadata": {},
   "outputs": [
    {
     "name": "stdout",
     "output_type": "stream",
     "text": [
      "Katie has a dog! Had to check 2 of records to find a dog owner.\n"
     ]
    }
   ],
   "source": [
    "first_dog_person = None\n",
    "iteration_count = 0\n",
    "for person in people:\n",
    "    iteration_count += 1\n",
    "    if person['pet'] == 'Dog':\n",
    "        first_dog_person = person\n",
    "        break\n",
    "print(f\"{first_dog_person['name']} has a dog! Had to check {iteration_count} of records to find a dog owner.\")\n",
    "    # Continue writing code here"
   ]
  },
  {
   "cell_type": "code",
   "execution_count": 20,
   "id": "b6b210ab",
   "metadata": {},
   "outputs": [
    {
     "name": "stdout",
     "output_type": "stream",
     "text": [
      "[{'name': 'Owen', 'age': 26, 'job': 'Sales person', 'pet': 'Cat', 'pet_name': 'Cosmo'}, {'name': 'Josh', 'age': 22, 'job': 'Student', 'pet': 'Cat', 'pet_name': 'Chat'}]\n"
     ]
    }
   ],
   "source": [
    "#list of people with cats and are under age 28\n",
    "cat_owners = []\n",
    "for person in people:\n",
    "  if person['pet']==\"Cat\" and person['age']<28:\n",
    "    cat_owners.append(person)\n",
    "\n",
    "print(cat_owners)\n",
    "# for loop goes here"
   ]
  },
  {
   "cell_type": "code",
   "execution_count": 21,
   "id": "b5ba390a",
   "metadata": {},
   "outputs": [
    {
     "name": "stdout",
     "output_type": "stream",
     "text": [
      "['Katie', 'Estelle', 'Gustav']\n",
      "['Frank', 'Gabby', 'Helen']\n"
     ]
    }
   ],
   "source": [
    "#Use a for loop to create a list of people's names and another list of pet names for all the dog owners.\n",
    "dog_owner_names = []\n",
    "dog_names = []\n",
    "for person in people:\n",
    "  if person[\"pet\"]==\"Dog\":\n",
    "    dog_owner_names.append(person[\"name\"])\n",
    "    dog_names.append(person[\"pet_name\"])\n",
    "print(dog_owner_names)\n",
    "print(dog_names)\n"
   ]
  },
  {
   "cell_type": "code",
   "execution_count": 22,
   "id": "5cf78565",
   "metadata": {},
   "outputs": [
    {
     "name": "stdout",
     "output_type": "stream",
     "text": [
      "[11, 13, 15, 17, 19, 21, 23, 25, 27, 29, 31, 33, 35, 37, 39, 41, 43, 45, 47, 49, 51, 53, 55, 57, 59, 61, 63, 65, 67, 69, 71, 73, 75, 77, 79]\n"
     ]
    }
   ],
   "source": [
    "# use a for loop to create a list of odd numbers from the list of numbers from 0 to 100\n",
    "# each time there is an odd number, add 10 to it and append it to the list_of_odd_numbers_plus_ten\n",
    "# stop adding numbers to the list when there are 35 numbers\n",
    "# use break and continue statements in your code\n",
    "list_of_numbers = list(range(0, 100))\n",
    "list_of_odd_numbers_plus_ten = []\n",
    "for number in list_of_numbers:\n",
    "  if number % 2 !=0:\n",
    "    list_of_odd_numbers_plus_ten.append(number+10)\n",
    "  if len(list_of_odd_numbers_plus_ten)==35:\n",
    "    break\n",
    "print(list_of_odd_numbers_plus_ten)"
   ]
  },
  {
   "cell_type": "code",
   "execution_count": null,
   "id": "3cce44e2",
   "metadata": {},
   "outputs": [],
   "source": []
  }
 ],
 "metadata": {
  "kernelspec": {
   "display_name": "Python 3 (ipykernel)",
   "language": "python",
   "name": "python3"
  },
  "language_info": {
   "codemirror_mode": {
    "name": "ipython",
    "version": 3
   },
   "file_extension": ".py",
   "mimetype": "text/x-python",
   "name": "python",
   "nbconvert_exporter": "python",
   "pygments_lexer": "ipython3",
   "version": "3.9.13"
  }
 },
 "nbformat": 4,
 "nbformat_minor": 5
}
