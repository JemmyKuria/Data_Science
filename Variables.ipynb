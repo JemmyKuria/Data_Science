{
 "cells": [
  {
   "cell_type": "markdown",
   "id": "ffe75ba8",
   "metadata": {},
   "source": [
    "#Variables"
   ]
  },
  {
   "cell_type": "code",
   "execution_count": 3,
   "id": "4d2d0118",
   "metadata": {},
   "outputs": [
    {
     "name": "stdout",
     "output_type": "stream",
     "text": [
      "Hey Jane Doe welcome to our platform. We shall reach you through your email janedoe@gmail.com\n"
     ]
    }
   ],
   "source": [
    "name=\"Jane Doe\"\n",
    "email=\"janedoe@gmail.com\"\n",
    "print(\"Hey \"+ name,\"welcome to our platform. We shall reach you through your email \"+email)"
   ]
  },
  {
   "cell_type": "code",
   "execution_count": 9,
   "id": "91a09e85",
   "metadata": {},
   "outputs": [
    {
     "name": "stdout",
     "output_type": "stream",
     "text": [
      "Jerry sings\n",
      "Jerry Sings\n",
      "JERRY SINGS\n",
      "True\n"
     ]
    }
   ],
   "source": [
    "name=\"jerry sings\"\n",
    "print(name.capitalize())\n",
    "print(name.title())\n",
    "print(name.upper())\n",
    "print(name.endswith(\"sings\"))"
   ]
  },
  {
   "cell_type": "code",
   "execution_count": 10,
   "id": "1341a3d2",
   "metadata": {},
   "outputs": [
    {
     "name": "stdout",
     "output_type": "stream",
     "text": [
      "False\n"
     ]
    }
   ],
   "source": [
    "#checking if email is correct using the endswith() method\n",
    "email=\"janedoe@gmail.c\"\n",
    "print(email.endswith(\"com\"))\n"
   ]
  },
  {
   "cell_type": "code",
   "execution_count": 16,
   "id": "4b4e7993",
   "metadata": {},
   "outputs": [
    {
     "name": "stdout",
     "output_type": "stream",
     "text": [
      "Micheal Terry 39\n",
      "Micheal Terry   39\n",
      "Your name is Micheal Terry and your age is 39\n"
     ]
    }
   ],
   "source": [
    "#string interpolation is attaching variables in between a string\n",
    "name=\"Micheal Terry\"\n",
    "age=\"39\"\n",
    "\n",
    "print(name + \" \" + age)\n",
    "print(name, \" \",age)\n",
    "print(\"Your name is\", name,\"and your age is\", age)"
   ]
  },
  {
   "cell_type": "markdown",
   "id": "8ecd232c",
   "metadata": {},
   "source": [
    "String interpolation :Using f strings(Formatted strings)"
   ]
  },
  {
   "cell_type": "code",
   "execution_count": 23,
   "id": "29459449",
   "metadata": {},
   "outputs": [
    {
     "name": "stdout",
     "output_type": "stream",
     "text": [
      "Your name is Micheal Terry and your age is 39\n"
     ]
    }
   ],
   "source": [
    "name=\"Micheal Terry\"\n",
    "age=39\n",
    "\n",
    "print(f\"Your name is {name} and your age is {age}\")"
   ]
  },
  {
   "cell_type": "markdown",
   "id": "26e919aa",
   "metadata": {},
   "source": [
    "2. Using {}placeholders and .format"
   ]
  },
  {
   "cell_type": "code",
   "execution_count": 19,
   "id": "1039074d",
   "metadata": {},
   "outputs": [
    {
     "name": "stdout",
     "output_type": "stream",
     "text": [
      "Your name is Micheal Terry and your age is 39\n"
     ]
    }
   ],
   "source": [
    "name=\"Micheal Terry\"\n",
    "age=39\n",
    "\n",
    "print(\"Your name is {} and your age is {}\".format(name, age))"
   ]
  },
  {
   "cell_type": "markdown",
   "id": "f55fbc4a",
   "metadata": {},
   "source": [
    "3. Using % format"
   ]
  },
  {
   "cell_type": "code",
   "execution_count": 21,
   "id": "17e106d4",
   "metadata": {},
   "outputs": [
    {
     "name": "stdout",
     "output_type": "stream",
     "text": [
      "Your name is Micheal Terry and your age is 39 years old\n"
     ]
    }
   ],
   "source": [
    "name=\"Micheal Terry\"\n",
    "age=39\n",
    "#%s stands for a string while %d stands for a decimal integer\n",
    "print(\"Your name is %s and your age is %d years old\" % (name, age))"
   ]
  },
  {
   "cell_type": "code",
   "execution_count": 25,
   "id": "b744e377",
   "metadata": {},
   "outputs": [
    {
     "name": "stdout",
     "output_type": "stream",
     "text": [
      "Enter nameVictor Say\n",
      "Enter age56\n",
      "Your name is Victor Say and you are 56 years old\n",
      "Your name is Victor Say and your age is 56\n",
      "Your name is Victor Say and your age is 56\n"
     ]
    }
   ],
   "source": [
    "name=input(\"Enter name\")\n",
    "age=int(input(\"Enter age\"))\n",
    "print(\"Your name is %s and you are %d years old\" % (name, age))\n",
    "print(\"Your name is {} and your age is {}\".format(name, age))\n",
    "print(f\"Your name is {name} and your age is {age}\")"
   ]
  },
  {
   "cell_type": "code",
   "execution_count": null,
   "id": "75c5857b",
   "metadata": {},
   "outputs": [],
   "source": []
  }
 ],
 "metadata": {
  "kernelspec": {
   "display_name": "Python 3 (ipykernel)",
   "language": "python",
   "name": "python3"
  },
  "language_info": {
   "codemirror_mode": {
    "name": "ipython",
    "version": 3
   },
   "file_extension": ".py",
   "mimetype": "text/x-python",
   "name": "python",
   "nbconvert_exporter": "python",
   "pygments_lexer": "ipython3",
   "version": "3.9.13"
  }
 },
 "nbformat": 4,
 "nbformat_minor": 5
}
