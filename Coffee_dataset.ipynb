{
  "nbformat": 4,
  "nbformat_minor": 0,
  "metadata": {
    "colab": {
      "provenance": [],
      "authorship_tag": "ABX9TyOSqcHpoDLzhfPUSdTnHyCp",
      "include_colab_link": true
    },
    "kernelspec": {
      "name": "python3",
      "display_name": "Python 3"
    },
    "language_info": {
      "name": "python"
    }
  },
  "cells": [
    {
      "cell_type": "markdown",
      "metadata": {
        "id": "view-in-github",
        "colab_type": "text"
      },
      "source": [
        "<a href=\"https://colab.research.google.com/github/JemmyKuria/Data_Science/blob/main/Coffee_dataset.ipynb\" target=\"_parent\"><img src=\"https://colab.research.google.com/assets/colab-badge.svg\" alt=\"Open In Colab\"/></a>"
      ]
    },
    {
      "cell_type": "code",
      "execution_count": 10,
      "metadata": {
        "colab": {
          "base_uri": "https://localhost:8080/"
        },
        "id": "Y-Y4JO2BZIiy",
        "outputId": "1338caec-a85d-4d5c-f285-f67f265ae3ab"
      },
      "outputs": [
        {
          "output_type": "execute_result",
          "data": {
            "text/plain": [
              "list"
            ]
          },
          "metadata": {},
          "execution_count": 10
        }
      ],
      "source": [
        "import json\n",
        "with open(\"/content/coffee_product_reviews (1).json\") as f:\n",
        "  reviews = json.load(f)\n",
        "type(reviews)"
      ]
    },
    {
      "cell_type": "code",
      "source": [
        "num_reviews=len(reviews)\n",
        "print(\"The coffee product review dataset contains {} reviews\".format(num_reviews))"
      ],
      "metadata": {
        "colab": {
          "base_uri": "https://localhost:8080/"
        },
        "id": "sWxZeMKJR3lU",
        "outputId": "47693df2-de6d-4f62-b9fb-a981de0136ca"
      },
      "execution_count": 11,
      "outputs": [
        {
          "output_type": "stream",
          "name": "stdout",
          "text": [
            "The coffee product review dataset contains 86 reviews\n"
          ]
        }
      ]
    },
    {
      "cell_type": "code",
      "source": [
        "#checking the first review\n",
        "first_review = reviews[0]\n",
        "print(\"The coffee product first review is {} review\".format(first_review))"
      ],
      "metadata": {
        "colab": {
          "base_uri": "https://localhost:8080/"
        },
        "id": "rtLmCJ4ISqXA",
        "outputId": "ff38c2d1-c341-4bb9-b6d2-1fb7bb6ff434"
      },
      "execution_count": 12,
      "outputs": [
        {
          "output_type": "stream",
          "name": "stdout",
          "text": [
            "The coffee product first review is {'rating': 5.0, 'reviewer_name': 'Sns073194', 'product_id': 'B00004RFRV', 'review_title': 'Perfect cafsito every time', 'review_time': '03 11, 2018', 'images': ['https://images-na.ssl-images-amazon.com/images/I/71d2cQEgJsL._SY88.jpg'], 'styles': {'Size:': ' 6-Cup', 'Color:': ' Silver'}} review\n"
          ]
        }
      ]
    },
    {
      "cell_type": "code",
      "source": [
        "#checking the keys\n",
        "first_review.keys()\n",
        "type(first_review)"
      ],
      "metadata": {
        "colab": {
          "base_uri": "https://localhost:8080/"
        },
        "id": "pDfNfie8TC_m",
        "outputId": "7ad72024-4487-4863-bdc0-114dc42793b5"
      },
      "execution_count": 13,
      "outputs": [
        {
          "output_type": "execute_result",
          "data": {
            "text/plain": [
              "dict"
            ]
          },
          "metadata": {},
          "execution_count": 13
        }
      ]
    },
    {
      "cell_type": "code",
      "source": [
        "\n",
        "#checking the values\n",
        "first_review.values()"
      ],
      "metadata": {
        "colab": {
          "base_uri": "https://localhost:8080/"
        },
        "id": "D7EVJZpKTKCr",
        "outputId": "3e3e1328-4191-42b9-9add-2fddf5721b8d"
      },
      "execution_count": 14,
      "outputs": [
        {
          "output_type": "execute_result",
          "data": {
            "text/plain": [
              "dict_values([5.0, 'Sns073194', 'B00004RFRV', 'Perfect cafsito every time', '03 11, 2018', ['https://images-na.ssl-images-amazon.com/images/I/71d2cQEgJsL._SY88.jpg'], {'Size:': ' 6-Cup', 'Color:': ' Silver'}])"
            ]
          },
          "metadata": {},
          "execution_count": 14
        }
      ]
    },
    {
      "cell_type": "code",
      "source": [
        "#First 5 reviews\n",
        "for index in range(5):\n",
        "  print(reviews[index])"
      ],
      "metadata": {
        "colab": {
          "base_uri": "https://localhost:8080/"
        },
        "id": "jcwijN2vTj2S",
        "outputId": "716b69ea-5f6f-4a27-ffe4-3c3cf78afe08"
      },
      "execution_count": 15,
      "outputs": [
        {
          "output_type": "stream",
          "name": "stdout",
          "text": [
            "{'rating': 5.0, 'reviewer_name': 'Sns073194', 'product_id': 'B00004RFRV', 'review_title': 'Perfect cafsito every time', 'review_time': '03 11, 2018', 'images': ['https://images-na.ssl-images-amazon.com/images/I/71d2cQEgJsL._SY88.jpg'], 'styles': {'Size:': ' 6-Cup', 'Color:': ' Silver'}}\n",
            "{'rating': 5.0, 'reviewer_name': 'Maverick', 'product_id': 'B00004RFRV', 'review_title': 'Delicious results from a wonderfully simple Bialetti Moka Express!', 'review_time': '12 3, 2017', 'images': ['https://images-na.ssl-images-amazon.com/images/I/61NG30sWdJL._SY88.jpg'], 'styles': {'Size:': ' 1-Cup', 'Color:': ' Silver'}}\n",
            "{'rating': 5.0, 'reviewer_name': 'Karen', 'product_id': 'B00004RFRV', 'review_title': 'Bialetti is the Best!', 'review_time': '11 12, 2017', 'images': ['https://images-na.ssl-images-amazon.com/images/I/81+XxFRGyBL._SY88.jpg'], 'styles': {'Size:': ' 12-Cup', 'Color:': ' Silver'}}\n",
            "{'rating': 5.0, 'reviewer_name': 'Feles (muy Mala)', 'product_id': 'B00004RFRV', 'review_title': 'Awesome portion control for one person!', 'review_time': '08 5, 2017', 'images': ['https://images-na.ssl-images-amazon.com/images/I/71BcwbkGyfL._SY88.jpg'], 'styles': {'Size:': ' 6-Cup', 'Color:': ' Purple'}}\n",
            "{'rating': 1.0, 'reviewer_name': 'EJ', 'product_id': 'B00004RFRV', 'review_title': 'Rusted spots everywhere fresh out the box...nasty', 'review_time': '06 4, 2017', 'images': ['https://images-na.ssl-images-amazon.com/images/I/71Dbr6X0bYL._SY88.jpg'], 'styles': {'Size:': ' 9-Cup', 'Color:': ' Silver'}}\n"
          ]
        }
      ]
    },
    {
      "cell_type": "markdown",
      "source": [
        "\n",
        "For this analysis, we are using a dataset collected from consumers by Computer Science researchers at the University of California, San Diego.\n",
        "\n",
        "Each record represents a review\n",
        "\n",
        "There are a total of 86 records\n",
        "\n",
        "Each record has 7 keys, all of which are type string\n",
        "\n",
        "The values associated with these keys have mixed types: float, list, string, and dictionary\n"
      ],
      "metadata": {
        "id": "w2HFK2XVUxhk"
      }
    },
    {
      "cell_type": "code",
      "source": [
        "review_index=2\n",
        "selected_review=reviews[review_index]\n",
        "print(\"The selected review is {}\".format(selected_review))\n"
      ],
      "metadata": {
        "colab": {
          "base_uri": "https://localhost:8080/"
        },
        "id": "jBGTw4nRU1Hy",
        "outputId": "6b9973df-c621-4fe9-9843-3667f924dfd2"
      },
      "execution_count": 16,
      "outputs": [
        {
          "output_type": "stream",
          "name": "stdout",
          "text": [
            "The selected review is {'rating': 5.0, 'reviewer_name': 'Karen', 'product_id': 'B00004RFRV', 'review_title': 'Bialetti is the Best!', 'review_time': '11 12, 2017', 'images': ['https://images-na.ssl-images-amazon.com/images/I/81+XxFRGyBL._SY88.jpg'], 'styles': {'Size:': ' 12-Cup', 'Color:': ' Silver'}}\n"
          ]
        }
      ]
    },
    {
      "cell_type": "code",
      "source": [
        "selected_rating=selected_review[\"rating\"]\n",
        "selected_rating"
      ],
      "metadata": {
        "colab": {
          "base_uri": "https://localhost:8080/"
        },
        "id": "R8SJQ2o2Vxf0",
        "outputId": "f4880421-b8e9-40ab-929f-6718995bef69"
      },
      "execution_count": 17,
      "outputs": [
        {
          "output_type": "execute_result",
          "data": {
            "text/plain": [
              "5.0"
            ]
          },
          "metadata": {},
          "execution_count": 17
        }
      ]
    },
    {
      "cell_type": "code",
      "source": [
        "#Has been used to check if rating of the review\n",
        "if selected_rating > 3:\n",
        "  print(\"This is a positive review\")\n",
        "elif selected_rating ==3:\n",
        "  print(\"This is a neutral review\")\n",
        "else:\n",
        "  print(\"This is a negative review\")"
      ],
      "metadata": {
        "colab": {
          "base_uri": "https://localhost:8080/"
        },
        "id": "Ek_jlYXyWHLM",
        "outputId": "1e1b88b0-e94f-4c83-c57d-939441bcd7a8"
      },
      "execution_count": 18,
      "outputs": [
        {
          "output_type": "stream",
          "name": "stdout",
          "text": [
            "This is a positive review\n"
          ]
        }
      ]
    },
    {
      "cell_type": "code",
      "source": [
        "#same example different review\n",
        "review_index = 3\n",
        "selected_review = reviews[review_index]\n",
        "selected_rating = selected_review[\"rating\"]\n",
        "print(\"The selected rating is:\", selected_rating)\n",
        "\n",
        "#Has been used to check if rating of the review\n",
        "if selected_rating > 3:\n",
        "  print(\"This is a positive review\")\n",
        "elif selected_rating == 3:\n",
        "  print(\"This is a neutral review\")\n",
        "else:\n",
        "  print(\"This is a negative review\")"
      ],
      "metadata": {
        "colab": {
          "base_uri": "https://localhost:8080/"
        },
        "id": "ospkuzMOXUAm",
        "outputId": "6af69ea5-acbd-41e7-84c2-931182206e8e"
      },
      "execution_count": 19,
      "outputs": [
        {
          "output_type": "stream",
          "name": "stdout",
          "text": [
            "The selected rating is: 5.0\n",
            "This is a positive review\n"
          ]
        }
      ]
    },
    {
      "cell_type": "code",
      "source": [
        "#same example different review\n",
        "review_index = 47\n",
        "selected_review = reviews[review_index]\n",
        "selected_rating = selected_review[\"rating\"]\n",
        "print(\"The selected rating is:\", selected_rating)\n",
        "\n",
        "#Has been used to check if rating of the review\n",
        "if selected_rating > 3:\n",
        "  print(\"This is a positive review\")\n",
        "elif selected_rating == 3:\n",
        "  print(\"This is a neutral review\")\n",
        "else:\n",
        "  print(\"This is a negative review\")"
      ],
      "metadata": {
        "colab": {
          "base_uri": "https://localhost:8080/"
        },
        "id": "fiC3SM3WYAtr",
        "outputId": "c93bf3c7-6b49-41b8-e522-3401861a9c37"
      },
      "execution_count": 20,
      "outputs": [
        {
          "output_type": "stream",
          "name": "stdout",
          "text": [
            "The selected rating is: 3.0\n",
            "This is a neutral review\n"
          ]
        }
      ]
    },
    {
      "cell_type": "code",
      "source": [
        "selected_review_indices = (2, 4, 47)\n",
        "positive_review, negative_review, neutral_review = [reviews[i] for i in selected_review_indices]"
      ],
      "metadata": {
        "id": "KivlBOnMYP5T"
      },
      "execution_count": 21,
      "outputs": []
    },
    {
      "cell_type": "code",
      "source": [
        "#Extract review_time value from the positive_review\n",
        "positive_review_time = positive_review[\"review_time\"]\n",
        "positive_review_time"
      ],
      "metadata": {
        "colab": {
          "base_uri": "https://localhost:8080/",
          "height": 35
        },
        "id": "djPtooHlYTda",
        "outputId": "788a25dc-51fa-498a-e916-7126cd400f93"
      },
      "execution_count": 22,
      "outputs": [
        {
          "output_type": "execute_result",
          "data": {
            "text/plain": [
              "'11 12, 2017'"
            ],
            "application/vnd.google.colaboratory.intrinsic+json": {
              "type": "string"
            }
          },
          "metadata": {},
          "execution_count": 22
        }
      ]
    },
    {
      "cell_type": "code",
      "source": [
        "#extract 4 last characters and change them to integers\n",
        "positive_review_year=int(positive_review_time[-4:])\n",
        "print(positive_review_year)\n",
        "type(positive_review_year)"
      ],
      "metadata": {
        "colab": {
          "base_uri": "https://localhost:8080/"
        },
        "id": "5a80xH_mYnoy",
        "outputId": "36df6d26-1a63-43c7-bddb-8ea84aa54868"
      },
      "execution_count": 23,
      "outputs": [
        {
          "output_type": "stream",
          "name": "stdout",
          "text": [
            "2017\n"
          ]
        },
        {
          "output_type": "execute_result",
          "data": {
            "text/plain": [
              "int"
            ]
          },
          "metadata": {},
          "execution_count": 23
        }
      ]
    },
    {
      "cell_type": "code",
      "source": [
        "#Same process for negative\n",
        "negative_review_time=negative_review[\"review_time\"]\n",
        "print(\"Negative review time\", negative_review_time)\n",
        "negative_review_year=int(negative_review_time[-4:])\n",
        "print(\"Negative review_year\", negative_review_year)\n",
        "type(negative_review_year)"
      ],
      "metadata": {
        "colab": {
          "base_uri": "https://localhost:8080/"
        },
        "id": "qWBRa6n6ZKv3",
        "outputId": "467e7ce0-fb3d-490d-f8d4-256e268d8744"
      },
      "execution_count": 24,
      "outputs": [
        {
          "output_type": "stream",
          "name": "stdout",
          "text": [
            "Negative review time 06 4, 2017\n",
            "Negative review_year 2017\n"
          ]
        },
        {
          "output_type": "execute_result",
          "data": {
            "text/plain": [
              "int"
            ]
          },
          "metadata": {},
          "execution_count": 24
        }
      ]
    },
    {
      "cell_type": "code",
      "source": [
        "#Same process for neutral\n",
        "neutral_review_time=neutral_review[\"review_time\"]\n",
        "print(\"Neutral review time\", neutral_review_time)\n",
        "neutral_review_year=int(neutral_review_time[-4:])\n",
        "print(\"Neutral review_year\", neutral_review_year)\n",
        "type(neutral_review_year)"
      ],
      "metadata": {
        "colab": {
          "base_uri": "https://localhost:8080/"
        },
        "id": "PtCcF--BZ5Ad",
        "outputId": "a99bf597-99e4-4c14-8f1d-5583af69bf10"
      },
      "execution_count": 25,
      "outputs": [
        {
          "output_type": "stream",
          "name": "stdout",
          "text": [
            "Neutral review time 04 17, 2015\n",
            "Neutral review_year 2015\n"
          ]
        },
        {
          "output_type": "execute_result",
          "data": {
            "text/plain": [
              "int"
            ]
          },
          "metadata": {},
          "execution_count": 25
        }
      ]
    },
    {
      "cell_type": "code",
      "source": [
        "#Images\n",
        "from IPython.display import Image\n",
        "Image('https://www.google.com/images/branding/googlelogo/2x/googlelogo_color_272x92dp.png')\n",
        "positive_review\n",
        "\n",
        "#extracting the image from the list\n",
        "positive_review_image_url = positive_review['images'][0]\n",
        "positive_review_image_url\n",
        "\n",
        "Image(positive_review_image_url)"
      ],
      "metadata": {
        "colab": {
          "base_uri": "https://localhost:8080/",
          "height": 105
        },
        "id": "CEYwgTytam0O",
        "outputId": "cc12a4ec-499e-4683-8d0c-14fd2c84a4e7"
      },
      "execution_count": 26,
      "outputs": [
        {
          "output_type": "execute_result",
          "data": {
            "image/jpeg": "[encoded data removed]",
            "text/plain": [
              "<IPython.core.display.Image object>"
            ]
          },
          "metadata": {},
          "execution_count": 26
        }
      ]
    },
    {
      "cell_type": "code",
      "source": [
        "negative_review_image_url = negative_review['images'][0]\n",
        "Image(negative_review_image_url)"
      ],
      "metadata": {
        "colab": {
          "base_uri": "https://localhost:8080/",
          "height": 105
        },
        "id": "wZYOU-lQbJ3z",
        "outputId": "167811e6-2b0a-417d-ffa2-d998f913fd61"
      },
      "execution_count": 27,
      "outputs": [
        {
          "output_type": "execute_result",
          "data": {
            "image/jpeg": "[encoded data removed]",
            "text/plain": [
              "<IPython.core.display.Image object>"
            ]
          },
          "metadata": {},
          "execution_count": 27
        }
      ]
    },
    {
      "cell_type": "code",
      "source": [
        "neutral_review_image_url = neutral_review['images'][0]\n",
        "Image(neutral_review_image_url)"
      ],
      "metadata": {
        "colab": {
          "base_uri": "https://localhost:8080/",
          "height": 105
        },
        "id": "fP1jFQNhbM-M",
        "outputId": "eb880325-5c23-428d-fa66-a007c6fb5a4a"
      },
      "execution_count": 28,
      "outputs": [
        {
          "output_type": "execute_result",
          "data": {
            "image/jpeg": "[encoded data removed]",
            "text/plain": [
              "<IPython.core.display.Image object>"
            ]
          },
          "metadata": {},
          "execution_count": 28
        }
      ]
    },
    {
      "cell_type": "code",
      "source": [
        "#The selected review\n",
        "review_index=2\n",
        "selected_review=reviews[review_index]\n",
        "print(\"The selected review is {}\".format(selected_review))\n",
        "\n",
        "\n",
        "#check the rating\n",
        "selected_rating=selected_review[\"rating\"]\n",
        "print(\"The selected rating is : {}\".format(selected_rating))\n",
        "print(selected_review['review_title'])\n",
        "\n",
        "\n",
        "#check the review time\n",
        "selected_review_indices = (2, 4, 47)\n",
        "positive_review, negative_review, neutral_review = [reviews[i] for i in selected_review_indices]\n",
        "if selected_rating > 3:\n",
        "  positive_review_time = positive_review[\"review_time\"]\n",
        "  positive_review_year=int(positive_review_time[-4:])\n",
        "  print(\"This was a positive review written by \"+ selected_review['reviewer_name']+ \" in \" + str(positive_review_year))\n",
        "elif selected_rating ==3:\n",
        "  neutral_review_time=neutral_review[\"review_time\"]\n",
        "  neutral_review_year=int(neutral_review_time[-4:])\n",
        "  print(\"This was a neutral review written by \"+ selected_review['reviewer_name']+ \" in \" + str(neutral_review_year))\n",
        "else:\n",
        "  negative_review_time=negative_review[\"review_time\"]\n",
        "  negative_review_year=int(negative_review_time[-4:])\n",
        "  print(\"This was a negative review written by \"+ selected_review['reviewer_name']+ \" in \" + str(negative_review_year))\n"
      ],
      "metadata": {
        "colab": {
          "base_uri": "https://localhost:8080/"
        },
        "id": "cvh-RfdobZR5",
        "outputId": "0d14c4de-31e9-46ef-a693-3725ed2c8f73"
      },
      "execution_count": 29,
      "outputs": [
        {
          "output_type": "stream",
          "name": "stdout",
          "text": [
            "The selected review is {'rating': 5.0, 'reviewer_name': 'Karen', 'product_id': 'B00004RFRV', 'review_title': 'Bialetti is the Best!', 'review_time': '11 12, 2017', 'images': ['https://images-na.ssl-images-amazon.com/images/I/81+XxFRGyBL._SY88.jpg'], 'styles': {'Size:': ' 12-Cup', 'Color:': ' Silver'}}\n",
            "The selected rating is : 5.0\n",
            "Bialetti is the Best!\n",
            "This was a positive review written by Karen in 2017\n"
          ]
        }
      ]
    }
  ]
}