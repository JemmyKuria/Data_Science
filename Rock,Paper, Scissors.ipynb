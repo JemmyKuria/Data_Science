{
 "cells": [
  {
   "cell_type": "code",
   "execution_count": 13,
   "id": "baddf5ef",
   "metadata": {},
   "outputs": [
    {
     "name": "stdout",
     "output_type": "stream",
     "text": [
      "Your turn: \n",
      " 1. Rock \n",
      " 2. Paper \n",
      " 3. Scissors \n",
      "3\n",
      "My choice: 2\n",
      "You win this round!\n",
      "Score -> You: 1, Me: 0, Total games: 1\n",
      "\n",
      "Your turn: \n",
      " 1. Rock \n",
      " 2. Paper \n",
      " 3. Scissors \n",
      "2\n",
      "My choice: 1\n",
      "You win this round!\n",
      "Score -> You: 2, Me: 0, Total games: 2\n",
      "\n",
      "Your turn: \n",
      " 1. Rock \n",
      " 2. Paper \n",
      " 3. Scissors \n",
      "1\n",
      "My choice: 3\n",
      "You win this round!\n",
      "Score -> You: 3, Me: 0, Total games: 3\n",
      "\n",
      "🎉 Congratulations! You won the game!\n"
     ]
    }
   ],
   "source": [
    "import numpy as np\n",
    "\n",
    "def play():\n",
    "    all_games = 0\n",
    "    my_games = 0\n",
    "    your_games = 0\n",
    "\n",
    "    while your_games < 3 and my_games < 3:\n",
    "        your_play = int(input(\"Your turn: \\n 1. Rock \\n 2. Paper \\n 3. Scissors \\n\"))\n",
    "        my_play = np.random.choice([1, 2, 3])\n",
    "        print(\"My choice:\", my_play)\n",
    "\n",
    "        if your_play == my_play:\n",
    "            print(\"It's a tie!\")\n",
    "        elif (your_play == 1 and my_play == 3) or (your_play == 2 and my_play == 1) or (your_play == 3 and my_play == 2):\n",
    "            your_games += 1\n",
    "            print(\"You win this round!\")\n",
    "        else:\n",
    "            my_games += 1\n",
    "            print(\"I win this round!\")\n",
    "\n",
    "        all_games += 1\n",
    "        print(f\"Score -> You: {your_games}, Me: {my_games}, Total games: {all_games}\\n\")\n",
    "\n",
    "    # Announce the winner\n",
    "    if your_games == 3:\n",
    "        print(\"🎉 Congratulations! You won the game!\")\n",
    "    else:\n",
    "        print(\"🤖 I won the game! Better luck next time.\")\n",
    "\n",
    "play()\n"
   ]
  },
  {
   "cell_type": "code",
   "execution_count": null,
   "id": "0770dd30",
   "metadata": {},
   "outputs": [],
   "source": []
  },
  {
   "cell_type": "code",
   "execution_count": null,
   "id": "322f93f9",
   "metadata": {},
   "outputs": [],
   "source": []
  }
 ],
 "metadata": {
  "kernelspec": {
   "display_name": "Python 3 (ipykernel)",
   "language": "python",
   "name": "python3"
  },
  "language_info": {
   "codemirror_mode": {
    "name": "ipython",
    "version": 3
   },
   "file_extension": ".py",
   "mimetype": "text/x-python",
   "name": "python",
   "nbconvert_exporter": "python",
   "pygments_lexer": "ipython3",
   "version": "3.9.13"
  }
 },
 "nbformat": 4,
 "nbformat_minor": 5
}
