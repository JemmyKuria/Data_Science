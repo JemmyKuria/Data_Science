{
 "cells": [
  {
   "cell_type": "code",
   "execution_count": 1,
   "id": "5466155b",
   "metadata": {},
   "outputs": [],
   "source": [
    "import numpy as np"
   ]
  },
  {
   "cell_type": "code",
   "execution_count": 2,
   "id": "9894c95d",
   "metadata": {},
   "outputs": [
    {
     "name": "stdout",
     "output_type": "stream",
     "text": [
      "The array should appear here:  [1 2 3 4 5]\n",
      "Type:  <class 'numpy.ndarray'>\n"
     ]
    }
   ],
   "source": [
    "#Can use any numpy function by just calling it eg\n",
    "the_array=np.array([1,2,3,4,5])\n",
    "print(\"The array should appear here: \", the_array)\n",
    "print(\"Type: \", type(the_array))"
   ]
  },
  {
   "cell_type": "code",
   "execution_count": 3,
   "id": "1ea5e329",
   "metadata": {},
   "outputs": [
    {
     "data": {
      "text/plain": [
       "array([['Cate', 'Jude', 'Brian'],\n",
       "       ['1', '2', '3']], dtype='<U11')"
      ]
     },
     "execution_count": 3,
     "metadata": {},
     "output_type": "execute_result"
    }
   ],
   "source": [
    "#multi_dimensional array\n",
    "array=np.array([[\"Cate\", \"Jude\", \"Brian\"], [1,2,3]])\n",
    "array"
   ]
  },
  {
   "cell_type": "code",
   "execution_count": 2,
   "id": "b63afacb",
   "metadata": {},
   "outputs": [
    {
     "name": "stdout",
     "output_type": "stream",
     "text": [
      "Time it takes to add 1 to each element in a list without NumPy: 0.09248780000052648\n",
      "Time it takes to add 1 to each element in a list with NumPy: 0.06172040000001289\n",
      "NumPy completes the operation 33 % faster than a traditional list\n"
     ]
    }
   ],
   "source": [
    "import numpy as np\n",
    "import time\n",
    "\n",
    "#Using 1million integers\n",
    "huge_list_of_integers=list(range(0, 1000000))\n",
    "huge_np_array_of_integers=np.array(huge_list_of_integers)\n",
    "\n",
    "\n",
    "def add_one(list_of_ints):\n",
    "    return [num + 1 for num in list_of_ints]\n",
    "\n",
    "start_time = time.perf_counter() # Time when operation starts\n",
    "add_one(huge_list_of_integers) # Adds 1 to each number in the list of integers above\n",
    "end_time = time.perf_counter() # Time when operation finishes\n",
    "total_time = (end_time - start_time) # Total time for operation\n",
    "\n",
    "start_time_with_np = time.perf_counter() # Time when operation starts\n",
    "huge_np_array_of_integers + 1 # Adds 1 to each number in the array of integers\n",
    "end_time_with_np = time.perf_counter() # Time when operation finishes\n",
    "total_time_with_np = (end_time_with_np - start_time_with_np) # Total time for operation\n",
    "\n",
    "print('Time it takes to add 1 to each element in a list without NumPy:', total_time)\n",
    "print('Time it takes to add 1 to each element in a list with NumPy:', total_time_with_np)\n",
    "\n",
    "percent_faster = int((((total_time - total_time_with_np)/total_time)*100))\n",
    "print('NumPy completes the operation', percent_faster, '% faster than a traditional list')"
   ]
  },
  {
   "cell_type": "code",
   "execution_count": 3,
   "id": "0700737b",
   "metadata": {},
   "outputs": [
    {
     "name": "stdout",
     "output_type": "stream",
     "text": [
      "<class 'numpy.ndarray'>\n"
     ]
    }
   ],
   "source": [
    "np_array=np.array([1,2,3])\n",
    "print(type(np_array))"
   ]
  },
  {
   "cell_type": "markdown",
   "id": "d0096f94",
   "metadata": {},
   "source": [
    "Broadcasting mathematical operations"
   ]
  },
  {
   "cell_type": "code",
   "execution_count": 4,
   "id": "a5b24156",
   "metadata": {},
   "outputs": [
    {
     "data": {
      "text/plain": [
       "array([2, 4, 6])"
      ]
     },
     "execution_count": 4,
     "metadata": {},
     "output_type": "execute_result"
    }
   ],
   "source": [
    "np_array * 2"
   ]
  },
  {
   "cell_type": "code",
   "execution_count": 5,
   "id": "22bc23ec",
   "metadata": {},
   "outputs": [
    {
     "data": {
      "text/plain": [
       "[1, 2, 3, 1, 2, 3, 1, 2, 3]"
      ]
     },
     "execution_count": 5,
     "metadata": {},
     "output_type": "execute_result"
    }
   ],
   "source": [
    "[1,2,3] * 3"
   ]
  },
  {
   "cell_type": "code",
   "execution_count": 6,
   "id": "3f3198ec",
   "metadata": {},
   "outputs": [
    {
     "data": {
      "text/plain": [
       "array([3, 4, 5])"
      ]
     },
     "execution_count": 6,
     "metadata": {},
     "output_type": "execute_result"
    }
   ],
   "source": [
    "np_array + 2"
   ]
  },
  {
   "cell_type": "code",
   "execution_count": 7,
   "id": "2b8f8280",
   "metadata": {},
   "outputs": [
    {
     "name": "stdout",
     "output_type": "stream",
     "text": [
      "<class 'list'>\n"
     ]
    },
    {
     "data": {
      "text/plain": [
       "[[1, 2], [3, 4]]"
      ]
     },
     "execution_count": 7,
     "metadata": {},
     "output_type": "execute_result"
    }
   ],
   "source": [
    "# An ordinary nested list\n",
    "y = [[1, 2], [3, 4]]\n",
    "print(type(y))\n",
    "y"
   ]
  },
  {
   "cell_type": "code",
   "execution_count": 8,
   "id": "7894f537",
   "metadata": {},
   "outputs": [
    {
     "name": "stdout",
     "output_type": "stream",
     "text": [
      "<class 'numpy.ndarray'>\n"
     ]
    },
    {
     "data": {
      "text/plain": [
       "array([[1, 2],\n",
       "       [3, 4]])"
      ]
     },
     "execution_count": 8,
     "metadata": {},
     "output_type": "execute_result"
    }
   ],
   "source": [
    "# Reformatted as a NumPy array\n",
    "y = np.array([[1, 2], [3, 4]])\n",
    "print(type(y))\n",
    "y"
   ]
  },
  {
   "cell_type": "code",
   "execution_count": 10,
   "id": "669d8c20",
   "metadata": {},
   "outputs": [
    {
     "data": {
      "text/plain": [
       "(2, 2)"
      ]
     },
     "execution_count": 10,
     "metadata": {},
     "output_type": "execute_result"
    }
   ],
   "source": [
    "y.shape #prints rows and columns"
   ]
  },
  {
   "cell_type": "code",
   "execution_count": 11,
   "id": "862efa0f",
   "metadata": {},
   "outputs": [
    {
     "name": "stdout",
     "output_type": "stream",
     "text": [
      "(3, 2)\n"
     ]
    },
    {
     "data": {
      "text/plain": [
       "array([[1, 2],\n",
       "       [3, 4],\n",
       "       [5, 6]])"
      ]
     },
     "execution_count": 11,
     "metadata": {},
     "output_type": "execute_result"
    }
   ],
   "source": [
    "y = np.array([[1, 2],[3, 4],[5, 6]])\n",
    "print(y.shape)\n",
    "y"
   ]
  },
  {
   "cell_type": "code",
   "execution_count": 12,
   "id": "2ecc75dd",
   "metadata": {},
   "outputs": [
    {
     "name": "stdout",
     "output_type": "stream",
     "text": [
      "(2, 3, 2)\n"
     ]
    },
    {
     "data": {
      "text/plain": [
       "array([[[1, 2],\n",
       "        [3, 4],\n",
       "        [5, 6]],\n",
       "\n",
       "       [[1, 2],\n",
       "        [3, 4],\n",
       "        [5, 6]]])"
      ]
     },
     "execution_count": 12,
     "metadata": {},
     "output_type": "execute_result"
    }
   ],
   "source": [
    "y = np.array([[[1, 2],[3, 4],[5, 6]],\n",
    "             [[1, 2],[3, 4],[5, 6]]\n",
    "             ])\n",
    "print(y.shape)\n",
    "y"
   ]
  },
  {
   "cell_type": "code",
   "execution_count": 13,
   "id": "cd006b9d",
   "metadata": {},
   "outputs": [
    {
     "name": "stdout",
     "output_type": "stream",
     "text": [
      "(4, 3)\n"
     ]
    },
    {
     "data": {
      "text/plain": [
       "array([[ 1,  2,  3],\n",
       "       [ 4,  5,  6],\n",
       "       [ 7,  8,  9],\n",
       "       [10, 11, 12]])"
      ]
     },
     "execution_count": 13,
     "metadata": {},
     "output_type": "execute_result"
    }
   ],
   "source": [
    "x = np.array([[1, 2, 3], [4, 5, 6], [7, 8, 9], [10, 11, 12]])\n",
    "print(x.shape)\n",
    "x"
   ]
  },
  {
   "cell_type": "code",
   "execution_count": 14,
   "id": "87b16e2b",
   "metadata": {},
   "outputs": [
    {
     "data": {
      "text/plain": [
       "array([1, 2, 3])"
      ]
     },
     "execution_count": 14,
     "metadata": {},
     "output_type": "execute_result"
    }
   ],
   "source": [
    "# Retrieving the first row\n",
    "x[0]"
   ]
  },
  {
   "cell_type": "code",
   "execution_count": 15,
   "id": "33d869ec",
   "metadata": {},
   "outputs": [
    {
     "data": {
      "text/plain": [
       "array([[ 4,  5,  6],\n",
       "       [ 7,  8,  9],\n",
       "       [10, 11, 12]])"
      ]
     },
     "execution_count": 15,
     "metadata": {},
     "output_type": "execute_result"
    }
   ],
   "source": [
    "# Retrieving all rows after the first row\n",
    "x[1:]"
   ]
  },
  {
   "cell_type": "code",
   "execution_count": null,
   "id": "f5fb8f6b",
   "metadata": {},
   "outputs": [],
   "source": [
    "# All rows, column 0\n",
    "x[:,0]"
   ]
  }
 ],
 "metadata": {
  "kernelspec": {
   "display_name": "Python 3 (ipykernel)",
   "language": "python",
   "name": "python3"
  },
  "language_info": {
   "codemirror_mode": {
    "name": "ipython",
    "version": 3
   },
   "file_extension": ".py",
   "mimetype": "text/x-python",
   "name": "python",
   "nbconvert_exporter": "python",
   "pygments_lexer": "ipython3",
   "version": "3.9.13"
  }
 },
 "nbformat": 4,
 "nbformat_minor": 5
}
