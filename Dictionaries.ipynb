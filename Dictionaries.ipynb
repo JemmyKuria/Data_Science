{
 "cells": [
  {
   "cell_type": "code",
   "execution_count": 2,
   "id": "1df80f1b",
   "metadata": {},
   "outputs": [
    {
     "name": "stdout",
     "output_type": "stream",
     "text": [
      "{'Students': ['Marya', 'Jane']}\n"
     ]
    }
   ],
   "source": [
    "names={\"Students\":[\"Marya\",\"Jane\"]}\n",
    "print(names)"
   ]
  },
  {
   "cell_type": "code",
   "execution_count": 12,
   "id": "4eabf404",
   "metadata": {},
   "outputs": [
    {
     "name": "stdout",
     "output_type": "stream",
     "text": [
      "Students\n",
      "['Marya', 'Jane']\n"
     ]
    }
   ],
   "source": [
    "for key,values in names.items():\n",
    "    print(key)\n",
    "    print(values)"
   ]
  },
  {
   "cell_type": "code",
   "execution_count": 4,
   "id": "69717fee",
   "metadata": {},
   "outputs": [
    {
     "data": {
      "text/plain": [
       "{'name': 'Friends', 'genre': 'sitcom', 'no_of_seasons': 10}"
      ]
     },
     "execution_count": 4,
     "metadata": {},
     "output_type": "execute_result"
    }
   ],
   "source": [
    "friends = {'name': 'Friends', 'genre': 'sitcom', 'no_of_seasons': 10}\n",
    "friends"
   ]
  },
  {
   "cell_type": "code",
   "execution_count": 5,
   "id": "176b01ff",
   "metadata": {},
   "outputs": [
    {
     "data": {
      "text/plain": [
       "'Friends'"
      ]
     },
     "execution_count": 5,
     "metadata": {},
     "output_type": "execute_result"
    }
   ],
   "source": [
    "friends[\"name\"]"
   ]
  },
  {
   "cell_type": "code",
   "execution_count": 6,
   "id": "fc4c4c45",
   "metadata": {},
   "outputs": [
    {
     "data": {
      "text/plain": [
       "{'name': 'Friends',\n",
       " 'genre': 'sitcom',\n",
       " 'no_of_seasons': 10,\n",
       " 'no_of_episodes': 236}"
      ]
     },
     "execution_count": 6,
     "metadata": {},
     "output_type": "execute_result"
    }
   ],
   "source": [
    "friends[\"no_of_episodes\"]=236\n",
    "friends"
   ]
  },
  {
   "cell_type": "code",
   "execution_count": 7,
   "id": "442eda91",
   "metadata": {},
   "outputs": [
    {
     "data": {
      "text/plain": [
       "dict_keys(['name', 'genre', 'no_of_seasons', 'no_of_episodes'])"
      ]
     },
     "execution_count": 7,
     "metadata": {},
     "output_type": "execute_result"
    }
   ],
   "source": [
    "friends.keys()"
   ]
  },
  {
   "cell_type": "code",
   "execution_count": 9,
   "id": "f08652f6",
   "metadata": {},
   "outputs": [
    {
     "data": {
      "text/plain": [
       "{'name': 'Friends',\n",
       " 'genre': 'sitcom',\n",
       " 'no_of_seasons': 10,\n",
       " 'no_of_episodes': 236,\n",
       " 'creators': ['David Crane', 'Marta Kauffman']}"
      ]
     },
     "execution_count": 9,
     "metadata": {},
     "output_type": "execute_result"
    }
   ],
   "source": [
    "friends[\"creators\"]=[\"David Crane\", \"Marta Kauffman\"]\n",
    "friends"
   ]
  },
  {
   "cell_type": "code",
   "execution_count": 10,
   "id": "4ddcba17",
   "metadata": {},
   "outputs": [],
   "source": [
    "greenville = {'Area': 68, 'City': 'Greenville', 'Country': 'USA', 'Population': 84554}"
   ]
  },
  {
   "cell_type": "code",
   "execution_count": 13,
   "id": "16af2d3b",
   "metadata": {},
   "outputs": [
    {
     "data": {
      "text/plain": [
       "84554"
      ]
     },
     "execution_count": 13,
     "metadata": {},
     "output_type": "execute_result"
    }
   ],
   "source": [
    "greenville_population=greenville[\"Population\"]\n",
    "greenville_population"
   ]
  },
  {
   "cell_type": "code",
   "execution_count": 15,
   "id": "6de29752",
   "metadata": {},
   "outputs": [
    {
     "name": "stdout",
     "output_type": "stream",
     "text": [
      "dict_keys(['Area', 'City', 'Country', 'Population'])\n",
      "dict_values([68, 'Greenville', 'USA', 84554])\n"
     ]
    }
   ],
   "source": [
    "#Assigning the keys to a list\n",
    "city_keys=greenville.keys()\n",
    "city_values=greenville.values()\n",
    "print(city_keys)\n",
    "print(city_values)\n"
   ]
  },
  {
   "cell_type": "code",
   "execution_count": 16,
   "id": "a5718989",
   "metadata": {},
   "outputs": [],
   "source": [
    "# Run this cell without changes\n",
    "soccer_match = [\n",
    "  { \"home_team\": True,\n",
    "    \"away_team\": False,\n",
    "    \"country\": \"France\",\n",
    "    \"num_passes\": 484,\n",
    "    \"passes_completed\": 423,\n",
    "    \"fouls_committed\": 16,\n",
    "    \"colors\": [\"blue\", \"white\", \"red\"],\n",
    "    \"players\": [\n",
    "      {\n",
    "        \"name\": \"Hugo LLORIS\",\n",
    "        \"captain\": True,\n",
    "        \"shirt_number\": 1,\n",
    "        \"position\": \"Goalie\"\n",
    "      },\n",
    "      {\n",
    "        \"name\": \"Benjamin PAVARD\",\n",
    "        \"captain\": False,\n",
    "        \"shirt_number\": 2,\n",
    "        \"position\": \"Defender\"\n",
    "      },\n",
    "      {\n",
    "        \"name\": \"Raphael VARANE\",\n",
    "        \"captain\": False,\n",
    "        \"shirt_number\": 4,\n",
    "        \"position\": \"Defender\"\n",
    "      },\n",
    "      {\n",
    "        \"name\": \"Samuel UMTITI\",\n",
    "        \"captain\": False,\n",
    "        \"shirt_number\": 5,\n",
    "        \"position\": \"Defender\"\n",
    "      },\n",
    "      {\n",
    "        \"name\": \"Paul POGBA\",\n",
    "        \"captain\": False,\n",
    "        \"shirt_number\": 6,\n",
    "        \"position\": \"Midfield\"\n",
    "      },\n",
    "      {\n",
    "        \"name\": \"Antoine GRIEZMANN\",\n",
    "        \"captain\": False,\n",
    "        \"shirt_number\": 7,\n",
    "        \"position\": \"Forward\"\n",
    "      },\n",
    "      {\n",
    "        \"name\": \"Kylian MBAPPE\",\n",
    "        \"captain\": False,\n",
    "        \"shirt_number\": 10,\n",
    "        \"position\": \"Forward\"\n",
    "      },\n",
    "      {\n",
    "        \"name\": \"Ousmane DEMBELE\",\n",
    "        \"captain\": False,\n",
    "        \"shirt_number\": 11,\n",
    "        \"position\": \"Forward\"\n",
    "      },\n",
    "      {\n",
    "        \"name\": \"Corentin TOLISSO\",\n",
    "        \"captain\": False,\n",
    "        \"shirt_number\": 12,\n",
    "        \"position\": \"Midfield\"\n",
    "      },\n",
    "      {\n",
    "        \"name\": \"Ngolo KANTE\",\n",
    "        \"captain\": False,\n",
    "        \"shirt_number\": 13,\n",
    "        \"position\": \"Midfield\"\n",
    "      },\n",
    "      {\n",
    "        \"name\": \"Lucas HERNANDEZ\",\n",
    "        \"captain\": False,\n",
    "        \"shirt_number\": 21,\n",
    "        \"position\": \"Defender\"\n",
    "      }\n",
    "    ],\n",
    "  },\n",
    "  { \"home_team\": False,\n",
    "    \"away_team\": True,\n",
    "    \"country\": \"Australia\",\n",
    "    \"num_passes\": 390,\n",
    "    \"passes_completed\": 332,\n",
    "    \"fouls_committed\": 19,\n",
    "    \"colors\": [\"green\", \"gold\"],\n",
    "    \"players\": [\n",
    "      {\n",
    "        \"name\": \"Mathew RYAN\",\n",
    "        \"captain\": False,\n",
    "        \"shirt_number\": 1,\n",
    "        \"position\": \"Goalie\"\n",
    "      },\n",
    "      {\n",
    "        \"name\": \"Mark MILLIGAN\",\n",
    "        \"captain\": False,\n",
    "        \"shirt_number\": 5,\n",
    "        \"position\": \"Defender\"\n",
    "      },\n",
    "      {\n",
    "        \"name\": \"Mathew LECKIE\",\n",
    "        \"captain\": False,\n",
    "        \"shirt_number\": 7,\n",
    "        \"position\": \"Forward\"\n",
    "      },\n",
    "      {\n",
    "        \"name\": \"Robbie KRUSE\",\n",
    "        \"captain\": False,\n",
    "        \"shirt_number\": 10,\n",
    "        \"position\": \"Forward\"\n",
    "      },\n",
    "      {\n",
    "        \"name\": \"Andrew NABBOUT\",\n",
    "        \"captain\": False,\n",
    "        \"shirt_number\": 11,\n",
    "        \"position\": \"Forward\"\n",
    "      },\n",
    "      {\n",
    "        \"name\": \"Aaron MOOY\",\n",
    "        \"captain\": False,\n",
    "        \"shirt_number\": 13,\n",
    "        \"position\": \"Midfield\"\n",
    "      },\n",
    "      {\n",
    "        \"name\": \"Mile JEDINAK\",\n",
    "        \"captain\": True,\n",
    "        \"shirt_number\": 15,\n",
    "        \"position\": \"Midfield\"\n",
    "      },\n",
    "      {\n",
    "        \"name\": \"Aziz BEHICH\",\n",
    "        \"captain\": False,\n",
    "        \"shirt_number\": 16,\n",
    "        \"position\": \"Defender\"\n",
    "      },\n",
    "      {\n",
    "        \"name\": \"Joshua RISDON\",\n",
    "        \"captain\": False,\n",
    "        \"shirt_number\": 19,\n",
    "        \"position\": \"Defender\"\n",
    "      },\n",
    "      {\n",
    "        \"name\": \"Trent SAINSBURY\",\n",
    "        \"captain\": False,\n",
    "        \"shirt_number\": 20,\n",
    "        \"position\": \"Defender\"\n",
    "      },\n",
    "      {\n",
    "        \"name\": \"Tom ROGIC\",\n",
    "        \"captain\": False,\n",
    "        \"shirt_number\": 23,\n",
    "        \"position\": \"Midfield\"\n",
    "      }\n",
    "    ]\n",
    "  }\n",
    "]"
   ]
  },
  {
   "cell_type": "code",
   "execution_count": 17,
   "id": "524ace0c",
   "metadata": {},
   "outputs": [
    {
     "name": "stdout",
     "output_type": "stream",
     "text": [
      "Information about soccer_match\n",
      "Type: <class 'list'>\n",
      "Length: 2\n",
      "\n",
      "Information about soccer_match[0]:\n",
      "Type: <class 'dict'>\n",
      "Length: 8\n",
      "Keys: dict_keys(['home_team', 'away_team', 'country', 'num_passes', 'passes_completed', 'fouls_committed', 'colors', 'players'])\n",
      "Values: dict_values([False, True, 'Australia', 390, 332, 19, ['green', 'gold'], [{'name': 'Mathew RYAN', 'captain': False, 'shirt_number': 1, 'position': 'Goalie'}, {'name': 'Mark MILLIGAN', 'captain': False, 'shirt_number': 5, 'position': 'Defender'}, {'name': 'Mathew LECKIE', 'captain': False, 'shirt_number': 7, 'position': 'Forward'}, {'name': 'Robbie KRUSE', 'captain': False, 'shirt_number': 10, 'position': 'Forward'}, {'name': 'Andrew NABBOUT', 'captain': False, 'shirt_number': 11, 'position': 'Forward'}, {'name': 'Aaron MOOY', 'captain': False, 'shirt_number': 13, 'position': 'Midfield'}, {'name': 'Mile JEDINAK', 'captain': True, 'shirt_number': 15, 'position': 'Midfield'}, {'name': 'Aziz BEHICH', 'captain': False, 'shirt_number': 16, 'position': 'Defender'}, {'name': 'Joshua RISDON', 'captain': False, 'shirt_number': 19, 'position': 'Defender'}, {'name': 'Trent SAINSBURY', 'captain': False, 'shirt_number': 20, 'position': 'Defender'}, {'name': 'Tom ROGIC', 'captain': False, 'shirt_number': 23, 'position': 'Midfield'}]])\n"
     ]
    }
   ],
   "source": [
    "# Run this cell without changes\n",
    "\n",
    "print(\"Information about soccer_match\")\n",
    "print(\"Type:\", type(soccer_match))\n",
    "print(\"Length:\", len(soccer_match))\n",
    "print()\n",
    "\n",
    "print(\"Information about soccer_match[0]:\")\n",
    "print(\"Type:\", type(soccer_match[0]))\n",
    "print(\"Length:\", len(soccer_match[0]))\n",
    "print(\"Keys:\", soccer_match[0].keys())\n",
    "print(\"Values:\", soccer_match[1].values())"
   ]
  },
  {
   "cell_type": "code",
   "execution_count": null,
   "id": "958af943",
   "metadata": {},
   "outputs": [],
   "source": [
    "countries=[]\n",
    "for match in soccer_match:\n",
    "    \n",
    "    "
   ]
  }
 ],
 "metadata": {
  "kernelspec": {
   "display_name": "Python 3 (ipykernel)",
   "language": "python",
   "name": "python3"
  },
  "language_info": {
   "codemirror_mode": {
    "name": "ipython",
    "version": 3
   },
   "file_extension": ".py",
   "mimetype": "text/x-python",
   "name": "python",
   "nbconvert_exporter": "python",
   "pygments_lexer": "ipython3",
   "version": "3.9.13"
  }
 },
 "nbformat": 4,
 "nbformat_minor": 5
}
