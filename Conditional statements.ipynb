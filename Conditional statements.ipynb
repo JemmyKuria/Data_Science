{
 "cells": [
  {
   "cell_type": "markdown",
   "id": "71b63261",
   "metadata": {},
   "source": [
    "Conditional statements"
   ]
  },
  {
   "cell_type": "markdown",
   "id": "64595e58",
   "metadata": {},
   "source": [
    "They allow a program to make decision based on conditions\n",
    "if <condition>:\n",
    "    statements\n",
    "else:\n",
    "    statement\n",
    "    \n",
    "if(condition):\n",
    "    statement\n",
    "elif(condition):\n",
    "    statement\n",
    "else:\n",
    "    statement"
   ]
  },
  {
   "cell_type": "code",
   "execution_count": 5,
   "id": "9aefc178",
   "metadata": {},
   "outputs": [
    {
     "name": "stdout",
     "output_type": "stream",
     "text": [
      "Enter your results 100\n",
      "Congratulations. You have passed.\n"
     ]
    }
   ],
   "source": [
    "results=int(input(\"Enter your results \"))\n",
    "if results >= 80:\n",
    "    print(\"Congratulations. You have passed.\")\n",
    "elif results>=50:\n",
    "    print(\"You have reached the passmark\")\n",
    "elif results >=25:\n",
    "    print(\"You need to work hard.\")\n",
    "else:\n",
    "    print(\"Sorry. You have failed.\")"
   ]
  },
  {
   "cell_type": "code",
   "execution_count": null,
   "id": "1b9c5ffa",
   "metadata": {},
   "outputs": [],
   "source": []
  }
 ],
 "metadata": {
  "kernelspec": {
   "display_name": "Python 3 (ipykernel)",
   "language": "python",
   "name": "python3"
  },
  "language_info": {
   "codemirror_mode": {
    "name": "ipython",
    "version": 3
   },
   "file_extension": ".py",
   "mimetype": "text/x-python",
   "name": "python",
   "nbconvert_exporter": "python",
   "pygments_lexer": "ipython3",
   "version": "3.9.13"
  }
 },
 "nbformat": 4,
 "nbformat_minor": 5
}
