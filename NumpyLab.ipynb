{
  "nbformat": 4,
  "nbformat_minor": 0,
  "metadata": {
    "colab": {
      "provenance": [],
      "authorship_tag": "ABX9TyMJqmC6Evre+QygQdHwAMk8",
      "include_colab_link": true
    },
    "kernelspec": {
      "name": "python3",
      "display_name": "Python 3"
    },
    "language_info": {
      "name": "python"
    }
  },
  "cells": [
    {
      "cell_type": "markdown",
      "metadata": {
        "id": "view-in-github",
        "colab_type": "text"
      },
      "source": [
        "<a href=\"https://colab.research.google.com/github/JemmyKuria/Data_Science/blob/main/NumpyLab.ipynb\" target=\"_parent\"><img src=\"https://colab.research.google.com/assets/colab-badge.svg\" alt=\"Open In Colab\"/></a>"
      ]
    },
    {
      "cell_type": "code",
      "execution_count": 1,
      "metadata": {
        "id": "2S7c02cbQ04e"
      },
      "outputs": [],
      "source": [
        "#Importing numpy\n",
        "import numpy as np"
      ]
    },
    {
      "cell_type": "code",
      "source": [
        "#Using a range 2. Using a Python list Below, create a list in Python that has 5 elements (i.e. [0,1,2,3,4]) and assign it to the variable py_list.\n",
        "py_list=list(range(5))\n",
        "py_list"
      ],
      "metadata": {
        "colab": {
          "base_uri": "https://localhost:8080/"
        },
        "id": "etBh-_chRuwZ",
        "outputId": "0ae2021a-5a97-4183-92d1-360e45f68fc0"
      },
      "execution_count": 3,
      "outputs": [
        {
          "output_type": "execute_result",
          "data": {
            "text/plain": [
              "[0, 1, 2, 3, 4]"
            ]
          },
          "metadata": {},
          "execution_count": 3
        }
      ]
    },
    {
      "cell_type": "code",
      "source": [
        "py_range = range(0, 5)\n",
        "py_range"
      ],
      "metadata": {
        "colab": {
          "base_uri": "https://localhost:8080/"
        },
        "id": "YmsNedWLSvua",
        "outputId": "1aa7ecfc-cdb3-4c5c-f043-258b3c639bac"
      },
      "execution_count": 9,
      "outputs": [
        {
          "output_type": "execute_result",
          "data": {
            "text/plain": [
              "range(0, 5)"
            ]
          },
          "metadata": {},
          "execution_count": 9
        }
      ]
    },
    {
      "cell_type": "code",
      "source": [
        "#Create numpy arrays and Assign py_list to array_from_list and the same to py_range\n",
        "array_from_list=np.array(py_list)\n",
        "array_from_range= np.array(py_range)"
      ],
      "metadata": {
        "id": "E8IMpEMyTgek"
      },
      "execution_count": 10,
      "outputs": []
    },
    {
      "cell_type": "code",
      "source": [
        "# Use the conversion rate for turning height in inches to meters\n",
        "list_height_inches = [65, 68, 73, 75, 78]\n",
        "\n",
        "# Your code here\n",
        "array_height_inches = np.array(list_height_inches)\n",
        "conversion_rate = 0.0254\n",
        "array_height_meters = array_height_inches * conversion_rate\n",
        "array_height_meters"
      ],
      "metadata": {
        "colab": {
          "base_uri": "https://localhost:8080/"
        },
        "id": "2pmXqPv_UQ7a",
        "outputId": "40a97393-3870-4b95-fb1f-3580272ddfe8"
      },
      "execution_count": 11,
      "outputs": [
        {
          "output_type": "execute_result",
          "data": {
            "text/plain": [
              "array([1.651 , 1.7272, 1.8542, 1.905 , 1.9812])"
            ]
          },
          "metadata": {},
          "execution_count": 11
        }
      ]
    },
    {
      "cell_type": "code",
      "source": [
        "# Use the conversion rate for turning weight in pounds to kilograms\n",
        "list_weight_pounds = [150, 140, 220, 205, 265]\n",
        "\n",
        "# Your code here\n",
        "array_weight_pounds = np.array(list_weight_pounds)\n",
        "conversion=2.2046\n",
        "array_weight_kg = array_weight_pounds / conversion\n",
        "array_weight_kg"
      ],
      "metadata": {
        "colab": {
          "base_uri": "https://localhost:8080/"
        },
        "id": "7-CqxHBAUoQI",
        "outputId": "a41251bf-64bd-4a2c-9d68-6c766bad5f30"
      },
      "execution_count": 13,
      "outputs": [
        {
          "output_type": "execute_result",
          "data": {
            "text/plain": [
              "array([ 68.03955366,  63.50358342,  99.79134537,  92.98739   ,\n",
              "       120.20321147])"
            ]
          },
          "metadata": {},
          "execution_count": 13
        }
      ]
    },
    {
      "cell_type": "code",
      "source": [
        "#Calculating BMI\n",
        "BMI_array=array_weight_kg/array_height_meters**2\n",
        "BMI_array"
      ],
      "metadata": {
        "colab": {
          "base_uri": "https://localhost:8080/"
        },
        "id": "AMfOmCdBVQ15",
        "outputId": "0a30db5e-ef9a-4a7d-9171-7814ced0a382"
      },
      "execution_count": 14,
      "outputs": [
        {
          "output_type": "execute_result",
          "data": {
            "text/plain": [
              "array([24.9613063 , 21.28692715, 29.02550097, 25.62324316, 30.62382485])"
            ]
          },
          "metadata": {},
          "execution_count": 14
        }
      ]
    },
    {
      "cell_type": "code",
      "source": [
        "#Create a vector of ones the same size as your BMI vector using np.ones()\n",
        "identity=np.ones(len(BMI_array))\n",
        "identity"
      ],
      "metadata": {
        "colab": {
          "base_uri": "https://localhost:8080/"
        },
        "id": "8FEq1uBYVrfH",
        "outputId": "8bb86b95-6dab-4ef0-8ef7-7f1a728ac83a"
      },
      "execution_count": 15,
      "outputs": [
        {
          "output_type": "execute_result",
          "data": {
            "text/plain": [
              "array([1., 1., 1., 1., 1.])"
            ]
          },
          "metadata": {},
          "execution_count": 15
        }
      ]
    },
    {
      "cell_type": "code",
      "source": [
        "#Multiply the BMI_array by your vector of ones\n",
        "BMI_array*identity"
      ],
      "metadata": {
        "colab": {
          "base_uri": "https://localhost:8080/"
        },
        "id": "kpg0LdtIV91n",
        "outputId": "7c81a1e0-a011-4cb7-96d6-acc9ce77a888"
      },
      "execution_count": 16,
      "outputs": [
        {
          "output_type": "execute_result",
          "data": {
            "text/plain": [
              "array([24.9613063 , 21.28692715, 29.02550097, 25.62324316, 30.62382485])"
            ]
          },
          "metadata": {},
          "execution_count": 16
        }
      ]
    },
    {
      "cell_type": "code",
      "source": [
        "# Open a text file (csv files are just plaintext separated by commas)\n",
        "f = open('bp.txt')\n",
        "n_rows = len(f.readlines())\n",
        "# Print number of lines in the file\n",
        "print('The file has {} lines.'.format(n_rows))\n",
        "# After using readlines, we must reopen the file\n",
        "f = open('bp.txt')\n",
        "# The file has values separated by tabs; we read the first line and check it's length\n",
        "n_cols = (len(f.readline().split('\\t')))\n",
        "\n",
        "f = open('bp.txt')\n",
        "#1) Create a matrix of zeros that is the same size of the file\n",
        "matrix = np.zeros([n_rows, n_cols])\n",
        "#2) Iterate through the file: \"for line in f:\"\n",
        "for n, line in enumerate(f):\n",
        "    #3) Update each row of the matrix with the new stream of data\n",
        "    #Hint: skip the first row (it's just column names, not the data.)\n",
        "    if n > 0:\n",
        "        matrix[n,:] = line.split('\\t')\n",
        "#4) Preview your results; you should now have a NumPy matrix with the data from the file\n",
        "matrix\n"
      ],
      "metadata": {
        "colab": {
          "base_uri": "https://localhost:8080/"
        },
        "id": "VNxPH0U9WUvZ",
        "outputId": "bd142f97-d3c6-45f6-caaf-31542c2b61e4"
      },
      "execution_count": 18,
      "outputs": [
        {
          "output_type": "stream",
          "name": "stdout",
          "text": [
            "The file has 21 lines.\n"
          ]
        },
        {
          "output_type": "execute_result",
          "data": {
            "text/plain": [
              "array([[  0.  ,   0.  ,   0.  ,   0.  ,   0.  ,   0.  ,   0.  ,   0.  ],\n",
              "       [  1.  , 105.  ,  47.  ,  85.4 ,   1.75,   5.1 ,  63.  ,  33.  ],\n",
              "       [  2.  , 115.  ,  49.  ,  94.2 ,   2.1 ,   3.8 ,  70.  ,  14.  ],\n",
              "       [  3.  , 116.  ,  49.  ,  95.3 ,   1.98,   8.2 ,  72.  ,  10.  ],\n",
              "       [  4.  , 117.  ,  50.  ,  94.7 ,   2.01,   5.8 ,  73.  ,  99.  ],\n",
              "       [  5.  , 112.  ,  51.  ,  89.4 ,   1.89,   7.  ,  72.  ,  95.  ],\n",
              "       [  6.  , 121.  ,  48.  ,  99.5 ,   2.25,   9.3 ,  71.  ,  10.  ],\n",
              "       [  7.  , 121.  ,  49.  ,  99.8 ,   2.25,   2.5 ,  69.  ,  42.  ],\n",
              "       [  8.  , 110.  ,  47.  ,  90.9 ,   1.9 ,   6.2 ,  66.  ,   8.  ],\n",
              "       [  9.  , 110.  ,  49.  ,  89.2 ,   1.83,   7.1 ,  69.  ,  62.  ],\n",
              "       [ 10.  , 114.  ,  48.  ,  92.7 ,   2.07,   5.6 ,  64.  ,  35.  ],\n",
              "       [ 11.  , 114.  ,  47.  ,  94.4 ,   2.07,   5.3 ,  74.  ,  90.  ],\n",
              "       [ 12.  , 115.  ,  49.  ,  94.1 ,   1.98,   5.6 ,  71.  ,  21.  ],\n",
              "       [ 13.  , 114.  ,  50.  ,  91.6 ,   2.05,  10.2 ,  68.  ,  47.  ],\n",
              "       [ 14.  , 106.  ,  45.  ,  87.1 ,   1.92,   5.6 ,  67.  ,  80.  ],\n",
              "       [ 15.  , 125.  ,  52.  , 101.3 ,   2.19,  10.  ,  76.  ,  98.  ],\n",
              "       [ 16.  , 114.  ,  46.  ,  94.5 ,   1.98,   7.4 ,  69.  ,  95.  ],\n",
              "       [ 17.  , 106.  ,  46.  ,  87.  ,   1.87,   3.6 ,  62.  ,  18.  ],\n",
              "       [ 18.  , 113.  ,  46.  ,  94.5 ,   1.9 ,   4.3 ,  70.  ,  12.  ],\n",
              "       [ 19.  , 110.  ,  48.  ,  90.5 ,   1.88,   9.  ,  71.  ,  99.  ],\n",
              "       [ 20.  , 122.  ,  56.  ,  95.7 ,   2.09,   7.  ,  75.  ,  99.  ]])"
            ]
          },
          "metadata": {},
          "execution_count": 18
        }
      ]
    }
  ]
}